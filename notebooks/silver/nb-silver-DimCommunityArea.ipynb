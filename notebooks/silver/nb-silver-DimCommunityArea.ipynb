{
 "cells": [
  {
   "cell_type": "code",
   "execution_count": 46,
   "metadata": {},
   "outputs": [],
   "source": [
    "import geopandas as gpd\n",
    "import pandas as pd\n",
    "import os"
   ]
  },
  {
   "cell_type": "code",
   "execution_count": 47,
   "metadata": {},
   "outputs": [
    {
     "ename": "ValueError",
     "evalue": "Missing geo metadata in Parquet/Feather file.\n            Use pandas.read_parquet/read_feather() instead.",
     "output_type": "error",
     "traceback": [
      "\u001b[1;31m---------------------------------------------------------------------------\u001b[0m",
      "\u001b[1;31mValueError\u001b[0m                                Traceback (most recent call last)",
      "Cell \u001b[1;32mIn[47], line 10\u001b[0m\n\u001b[0;32m      8\u001b[0m \u001b[38;5;66;03m# load stations dataframe\u001b[39;00m\n\u001b[0;32m      9\u001b[0m filepath \u001b[38;5;241m=\u001b[39m \u001b[38;5;124m'\u001b[39m\u001b[38;5;124mC:\u001b[39m\u001b[38;5;130;01m\\\\\u001b[39;00m\u001b[38;5;124mUsers\u001b[39m\u001b[38;5;130;01m\\\\\u001b[39;00m\u001b[38;5;124mestel\u001b[39m\u001b[38;5;130;01m\\\\\u001b[39;00m\u001b[38;5;124mDocuments\u001b[39m\u001b[38;5;130;01m\\\\\u001b[39;00m\u001b[38;5;124mpython\u001b[39m\u001b[38;5;130;01m\\\\\u001b[39;00m\u001b[38;5;124mprojects\u001b[39m\u001b[38;5;130;01m\\\\\u001b[39;00m\u001b[38;5;124mcta\u001b[39m\u001b[38;5;130;01m\\\\\u001b[39;00m\u001b[38;5;124mdata\u001b[39m\u001b[38;5;130;01m\\\\\u001b[39;00m\u001b[38;5;124mbronze\u001b[39m\u001b[38;5;130;01m\\\\\u001b[39;00m\u001b[38;5;124mCommAreas_20250202.parquet\u001b[39m\u001b[38;5;124m'\u001b[39m\n\u001b[1;32m---> 10\u001b[0m gdf \u001b[38;5;241m=\u001b[39m \u001b[43mgpd\u001b[49m\u001b[38;5;241;43m.\u001b[39;49m\u001b[43mread_parquet\u001b[49m\u001b[43m(\u001b[49m\u001b[43mfilepath\u001b[49m\u001b[43m,\u001b[49m\u001b[43m \u001b[49m\u001b[43mcolumns\u001b[49m\u001b[38;5;241;43m=\u001b[39;49m\u001b[43m[\u001b[49m\u001b[38;5;124;43m'\u001b[39;49m\u001b[38;5;124;43mthe_geom\u001b[39;49m\u001b[38;5;124;43m'\u001b[39;49m\u001b[43m,\u001b[49m\u001b[43m \u001b[49m\u001b[38;5;124;43m'\u001b[39;49m\u001b[38;5;124;43mCOMMUNITY\u001b[39;49m\u001b[38;5;124;43m'\u001b[39;49m\u001b[43m,\u001b[49m\u001b[43m \u001b[49m\u001b[38;5;124;43m'\u001b[39;49m\u001b[38;5;124;43mAREA_NUMBE\u001b[39;49m\u001b[38;5;124;43m'\u001b[39;49m\u001b[43m]\u001b[49m\u001b[43m)\u001b[49m\u001b[38;5;241m.\u001b[39mrename(columns\u001b[38;5;241m=\u001b[39mcol_names)\n\u001b[0;32m     12\u001b[0m \u001b[38;5;28mprint\u001b[39m(\u001b[38;5;124m'\u001b[39m\u001b[38;5;124mLoaded\u001b[39m\u001b[38;5;124m'\u001b[39m, \u001b[38;5;28mlen\u001b[39m(gdf), \u001b[38;5;124m'\u001b[39m\u001b[38;5;124mrows\u001b[39m\u001b[38;5;124m'\u001b[39m)\n\u001b[0;32m     13\u001b[0m \u001b[38;5;28mprint\u001b[39m(gdf\u001b[38;5;241m.\u001b[39mdtypes)\n",
      "File \u001b[1;32mc:\\Users\\estel\\Documents\\python\\projects\\cta\\.venv\\Lib\\site-packages\\geopandas\\io\\arrow.py:753\u001b[0m, in \u001b[0;36m_read_parquet\u001b[1;34m(path, columns, storage_options, bbox, **kwargs)\u001b[0m\n\u001b[0;32m    750\u001b[0m path \u001b[38;5;241m=\u001b[39m _expand_user(path)\n\u001b[0;32m    751\u001b[0m schema, metadata \u001b[38;5;241m=\u001b[39m _read_parquet_schema_and_metadata(path, filesystem)\n\u001b[1;32m--> 753\u001b[0m geo_metadata \u001b[38;5;241m=\u001b[39m \u001b[43m_validate_and_decode_metadata\u001b[49m\u001b[43m(\u001b[49m\u001b[43mmetadata\u001b[49m\u001b[43m)\u001b[49m\n\u001b[0;32m    755\u001b[0m bbox_filter \u001b[38;5;241m=\u001b[39m (\n\u001b[0;32m    756\u001b[0m     _get_parquet_bbox_filter(geo_metadata, bbox) \u001b[38;5;28;01mif\u001b[39;00m bbox \u001b[38;5;129;01mis\u001b[39;00m \u001b[38;5;129;01mnot\u001b[39;00m \u001b[38;5;28;01mNone\u001b[39;00m \u001b[38;5;28;01melse\u001b[39;00m \u001b[38;5;28;01mNone\u001b[39;00m\n\u001b[0;32m    757\u001b[0m )\n\u001b[0;32m    759\u001b[0m if_bbox_column_exists \u001b[38;5;241m=\u001b[39m _check_if_covering_in_geo_metadata(geo_metadata)\n",
      "File \u001b[1;32mc:\\Users\\estel\\Documents\\python\\projects\\cta\\.venv\\Lib\\site-packages\\geopandas\\io\\arrow.py:621\u001b[0m, in \u001b[0;36m_validate_and_decode_metadata\u001b[1;34m(metadata)\u001b[0m\n\u001b[0;32m    619\u001b[0m \u001b[38;5;28;01mdef\u001b[39;00m\u001b[38;5;250m \u001b[39m\u001b[38;5;21m_validate_and_decode_metadata\u001b[39m(metadata):\n\u001b[0;32m    620\u001b[0m     \u001b[38;5;28;01mif\u001b[39;00m metadata \u001b[38;5;129;01mis\u001b[39;00m \u001b[38;5;28;01mNone\u001b[39;00m \u001b[38;5;129;01mor\u001b[39;00m \u001b[38;5;124mb\u001b[39m\u001b[38;5;124m\"\u001b[39m\u001b[38;5;124mgeo\u001b[39m\u001b[38;5;124m\"\u001b[39m \u001b[38;5;129;01mnot\u001b[39;00m \u001b[38;5;129;01min\u001b[39;00m metadata:\n\u001b[1;32m--> 621\u001b[0m         \u001b[38;5;28;01mraise\u001b[39;00m \u001b[38;5;167;01mValueError\u001b[39;00m(\n\u001b[0;32m    622\u001b[0m \u001b[38;5;250m            \u001b[39m\u001b[38;5;124;03m\"\"\"Missing geo metadata in Parquet/Feather file.\u001b[39;00m\n\u001b[0;32m    623\u001b[0m \u001b[38;5;124;03m            Use pandas.read_parquet/read_feather() instead.\"\"\"\u001b[39;00m\n\u001b[0;32m    624\u001b[0m         )\n\u001b[0;32m    626\u001b[0m     \u001b[38;5;66;03m# check for malformed metadata\u001b[39;00m\n\u001b[0;32m    627\u001b[0m     \u001b[38;5;28;01mtry\u001b[39;00m:\n",
      "\u001b[1;31mValueError\u001b[0m: Missing geo metadata in Parquet/Feather file.\n            Use pandas.read_parquet/read_feather() instead."
     ]
    }
   ],
   "source": [
    "# schema\n",
    "col_names = {\n",
    "    'the_geom': 'geometry',\n",
    "    'COMMUNITY': 'Community',\n",
    "    'AREA_NUMBE': 'AreaNumber'\n",
    "}\n",
    "\n",
    "# load stations dataframe\n",
    "filepath = 'C:\\\\Users\\\\estel\\\\Documents\\\\python\\\\projects\\\\cta\\\\data\\\\bronze\\\\CommAreas_20250202.parquet'\n",
    "gdf = gpd.read_parquet(filepath, columns=['the_geom', 'COMMUNITY', 'AREA_NUMBE']).rename(columns=col_names)\n",
    "\n",
    "print('Loaded', len(gdf), 'rows')\n",
    "print(gdf.dtypes)\n",
    "display(gdf.head())"
   ]
  },
  {
   "cell_type": "code",
   "execution_count": 44,
   "metadata": {},
   "outputs": [
    {
     "data": {
      "text/html": [
       "<div>\n",
       "<style scoped>\n",
       "    .dataframe tbody tr th:only-of-type {\n",
       "        vertical-align: middle;\n",
       "    }\n",
       "\n",
       "    .dataframe tbody tr th {\n",
       "        vertical-align: top;\n",
       "    }\n",
       "\n",
       "    .dataframe thead th {\n",
       "        text-align: right;\n",
       "    }\n",
       "</style>\n",
       "<table border=\"1\" class=\"dataframe\">\n",
       "  <thead>\n",
       "    <tr style=\"text-align: right;\">\n",
       "      <th></th>\n",
       "      <th>geometry</th>\n",
       "      <th>Community</th>\n",
       "      <th>AreaNumber</th>\n",
       "    </tr>\n",
       "  </thead>\n",
       "  <tbody>\n",
       "    <tr>\n",
       "      <th>0</th>\n",
       "      <td>MULTIPOLYGON (((-87.60914087617894 41.84469250...</td>\n",
       "      <td>Douglas</td>\n",
       "      <td>35</td>\n",
       "    </tr>\n",
       "    <tr>\n",
       "      <th>1</th>\n",
       "      <td>MULTIPOLYGON (((-87.59215283879394 41.81692934...</td>\n",
       "      <td>Oakland</td>\n",
       "      <td>36</td>\n",
       "    </tr>\n",
       "    <tr>\n",
       "      <th>2</th>\n",
       "      <td>MULTIPOLYGON (((-87.62879823733725 41.80189303...</td>\n",
       "      <td>Fuller Park</td>\n",
       "      <td>37</td>\n",
       "    </tr>\n",
       "    <tr>\n",
       "      <th>3</th>\n",
       "      <td>MULTIPOLYGON (((-87.6067081256125 41.816813770...</td>\n",
       "      <td>Grand Boulevard</td>\n",
       "      <td>38</td>\n",
       "    </tr>\n",
       "    <tr>\n",
       "      <th>4</th>\n",
       "      <td>MULTIPOLYGON (((-87.59215283879394 41.81692934...</td>\n",
       "      <td>Kenwood</td>\n",
       "      <td>39</td>\n",
       "    </tr>\n",
       "  </tbody>\n",
       "</table>\n",
       "</div>"
      ],
      "text/plain": [
       "                                            geometry        Community  \\\n",
       "0  MULTIPOLYGON (((-87.60914087617894 41.84469250...          Douglas   \n",
       "1  MULTIPOLYGON (((-87.59215283879394 41.81692934...          Oakland   \n",
       "2  MULTIPOLYGON (((-87.62879823733725 41.80189303...      Fuller Park   \n",
       "3  MULTIPOLYGON (((-87.6067081256125 41.816813770...  Grand Boulevard   \n",
       "4  MULTIPOLYGON (((-87.59215283879394 41.81692934...          Kenwood   \n",
       "\n",
       "   AreaNumber  \n",
       "0          35  \n",
       "1          36  \n",
       "2          37  \n",
       "3          38  \n",
       "4          39  "
      ]
     },
     "metadata": {},
     "output_type": "display_data"
    }
   ],
   "source": [
    "# quick cleanup for readability and correct dtypes\n",
    "gdf['Community'] = gdf.Community.apply(lambda x: ' '.join(word.capitalize() for word in x.split(' ')))\n",
    "gdf['AreaNumber'] = gdf.AreaNumber.astype(int)\n",
    "\n",
    "display(gdf.head())"
   ]
  },
  {
   "cell_type": "code",
   "execution_count": 45,
   "metadata": {},
   "outputs": [
    {
     "data": {
      "text/plain": [
       "['DimCommunityArea.parquet',\n",
       " 'DimParkRide.parquet',\n",
       " 'DimRailLine.parquet',\n",
       " 'DimRailStation.parquet',\n",
       " 'FactStationEntries.parquet']"
      ]
     },
     "execution_count": 45,
     "metadata": {},
     "output_type": "execute_result"
    }
   ],
   "source": [
    "# drop no longer needed columns\n",
    "select_cols = [\n",
    "    'AreaNumber',\n",
    "    'Community',\n",
    "    'geometry'\n",
    "]\n",
    "gdf = gdf[select_cols]\n",
    "\n",
    "# save to file\n",
    "filepath = 'C:\\\\Users\\\\estel\\\\Documents\\\\python\\\\projects\\\\cta\\\\data\\\\silver\\\\'\n",
    "filename = 'DimCommunityArea.parquet'\n",
    "gdf.to_parquet(filepath+filename)\n",
    "\n",
    "# verify\n",
    "os.listdir(filepath)\n"
   ]
  },
  {
   "cell_type": "code",
   "execution_count": null,
   "metadata": {},
   "outputs": [],
   "source": []
  },
  {
   "cell_type": "code",
   "execution_count": null,
   "metadata": {},
   "outputs": [],
   "source": []
  }
 ],
 "metadata": {
  "kernelspec": {
   "display_name": ".venv",
   "language": "python",
   "name": "python3"
  },
  "language_info": {
   "codemirror_mode": {
    "name": "ipython",
    "version": 3
   },
   "file_extension": ".py",
   "mimetype": "text/x-python",
   "name": "python",
   "nbconvert_exporter": "python",
   "pygments_lexer": "ipython3",
   "version": "3.13.1"
  }
 },
 "nbformat": 4,
 "nbformat_minor": 2
}
