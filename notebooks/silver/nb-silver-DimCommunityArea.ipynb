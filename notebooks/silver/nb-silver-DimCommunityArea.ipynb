{
 "cells": [
  {
   "cell_type": "code",
   "execution_count": 46,
   "metadata": {},
   "outputs": [],
   "source": [
    "import geopandas as gpd\n",
    "import pandas as pd\n",
    "import os"
   ]
  },
  {
   "cell_type": "code",
   "execution_count": 48,
   "metadata": {},
   "outputs": [
    {
     "name": "stdout",
     "output_type": "stream",
     "text": [
      "Loaded 77 rows\n",
      "geometry      geometry\n",
      "Community       object\n",
      "AreaNumber       int64\n",
      "dtype: object\n"
     ]
    },
    {
     "data": {
      "text/html": [
       "<div>\n",
       "<style scoped>\n",
       "    .dataframe tbody tr th:only-of-type {\n",
       "        vertical-align: middle;\n",
       "    }\n",
       "\n",
       "    .dataframe tbody tr th {\n",
       "        vertical-align: top;\n",
       "    }\n",
       "\n",
       "    .dataframe thead th {\n",
       "        text-align: right;\n",
       "    }\n",
       "</style>\n",
       "<table border=\"1\" class=\"dataframe\">\n",
       "  <thead>\n",
       "    <tr style=\"text-align: right;\">\n",
       "      <th></th>\n",
       "      <th>geometry</th>\n",
       "      <th>Community</th>\n",
       "      <th>AreaNumber</th>\n",
       "    </tr>\n",
       "  </thead>\n",
       "  <tbody>\n",
       "    <tr>\n",
       "      <th>0</th>\n",
       "      <td>MULTIPOLYGON (((-87.60914 41.84469, -87.60915 ...</td>\n",
       "      <td>DOUGLAS</td>\n",
       "      <td>35</td>\n",
       "    </tr>\n",
       "    <tr>\n",
       "      <th>1</th>\n",
       "      <td>MULTIPOLYGON (((-87.59215 41.81693, -87.59231 ...</td>\n",
       "      <td>OAKLAND</td>\n",
       "      <td>36</td>\n",
       "    </tr>\n",
       "    <tr>\n",
       "      <th>2</th>\n",
       "      <td>MULTIPOLYGON (((-87.6288 41.80189, -87.62879 4...</td>\n",
       "      <td>FULLER PARK</td>\n",
       "      <td>37</td>\n",
       "    </tr>\n",
       "    <tr>\n",
       "      <th>3</th>\n",
       "      <td>MULTIPOLYGON (((-87.60671 41.81681, -87.6067 4...</td>\n",
       "      <td>GRAND BOULEVARD</td>\n",
       "      <td>38</td>\n",
       "    </tr>\n",
       "    <tr>\n",
       "      <th>4</th>\n",
       "      <td>MULTIPOLYGON (((-87.59215 41.81693, -87.59215 ...</td>\n",
       "      <td>KENWOOD</td>\n",
       "      <td>39</td>\n",
       "    </tr>\n",
       "  </tbody>\n",
       "</table>\n",
       "</div>"
      ],
      "text/plain": [
       "                                            geometry        Community  \\\n",
       "0  MULTIPOLYGON (((-87.60914 41.84469, -87.60915 ...          DOUGLAS   \n",
       "1  MULTIPOLYGON (((-87.59215 41.81693, -87.59231 ...          OAKLAND   \n",
       "2  MULTIPOLYGON (((-87.6288 41.80189, -87.62879 4...      FULLER PARK   \n",
       "3  MULTIPOLYGON (((-87.60671 41.81681, -87.6067 4...  GRAND BOULEVARD   \n",
       "4  MULTIPOLYGON (((-87.59215 41.81693, -87.59215 ...          KENWOOD   \n",
       "\n",
       "   AreaNumber  \n",
       "0          35  \n",
       "1          36  \n",
       "2          37  \n",
       "3          38  \n",
       "4          39  "
      ]
     },
     "metadata": {},
     "output_type": "display_data"
    }
   ],
   "source": [
    "# schema\n",
    "col_names = {\n",
    "    'COMMUNITY': 'Community',\n",
    "    'AREA_NUMBE': 'AreaNumber'\n",
    "}\n",
    "\n",
    "# load stations dataframe\n",
    "filepath = 'C:\\\\Users\\\\estel\\\\Documents\\\\python\\\\projects\\\\cta\\\\data\\\\bronze\\\\CommAreas_20250202.parquet'\n",
    "gdf = gpd.read_parquet(filepath, columns=['geometry', 'COMMUNITY', 'AREA_NUMBE']).rename(columns=col_names)\n",
    "\n",
    "print('Loaded', len(gdf), 'rows')\n",
    "print(gdf.dtypes)\n",
    "display(gdf.head())"
   ]
  },
  {
   "cell_type": "code",
   "execution_count": 49,
   "metadata": {},
   "outputs": [
    {
     "data": {
      "text/html": [
       "<div>\n",
       "<style scoped>\n",
       "    .dataframe tbody tr th:only-of-type {\n",
       "        vertical-align: middle;\n",
       "    }\n",
       "\n",
       "    .dataframe tbody tr th {\n",
       "        vertical-align: top;\n",
       "    }\n",
       "\n",
       "    .dataframe thead th {\n",
       "        text-align: right;\n",
       "    }\n",
       "</style>\n",
       "<table border=\"1\" class=\"dataframe\">\n",
       "  <thead>\n",
       "    <tr style=\"text-align: right;\">\n",
       "      <th></th>\n",
       "      <th>geometry</th>\n",
       "      <th>Community</th>\n",
       "      <th>AreaNumber</th>\n",
       "    </tr>\n",
       "  </thead>\n",
       "  <tbody>\n",
       "    <tr>\n",
       "      <th>0</th>\n",
       "      <td>MULTIPOLYGON (((-87.60914 41.84469, -87.60915 ...</td>\n",
       "      <td>Douglas</td>\n",
       "      <td>35</td>\n",
       "    </tr>\n",
       "    <tr>\n",
       "      <th>1</th>\n",
       "      <td>MULTIPOLYGON (((-87.59215 41.81693, -87.59231 ...</td>\n",
       "      <td>Oakland</td>\n",
       "      <td>36</td>\n",
       "    </tr>\n",
       "    <tr>\n",
       "      <th>2</th>\n",
       "      <td>MULTIPOLYGON (((-87.6288 41.80189, -87.62879 4...</td>\n",
       "      <td>Fuller Park</td>\n",
       "      <td>37</td>\n",
       "    </tr>\n",
       "    <tr>\n",
       "      <th>3</th>\n",
       "      <td>MULTIPOLYGON (((-87.60671 41.81681, -87.6067 4...</td>\n",
       "      <td>Grand Boulevard</td>\n",
       "      <td>38</td>\n",
       "    </tr>\n",
       "    <tr>\n",
       "      <th>4</th>\n",
       "      <td>MULTIPOLYGON (((-87.59215 41.81693, -87.59215 ...</td>\n",
       "      <td>Kenwood</td>\n",
       "      <td>39</td>\n",
       "    </tr>\n",
       "  </tbody>\n",
       "</table>\n",
       "</div>"
      ],
      "text/plain": [
       "                                            geometry        Community  \\\n",
       "0  MULTIPOLYGON (((-87.60914 41.84469, -87.60915 ...          Douglas   \n",
       "1  MULTIPOLYGON (((-87.59215 41.81693, -87.59231 ...          Oakland   \n",
       "2  MULTIPOLYGON (((-87.6288 41.80189, -87.62879 4...      Fuller Park   \n",
       "3  MULTIPOLYGON (((-87.60671 41.81681, -87.6067 4...  Grand Boulevard   \n",
       "4  MULTIPOLYGON (((-87.59215 41.81693, -87.59215 ...          Kenwood   \n",
       "\n",
       "   AreaNumber  \n",
       "0          35  \n",
       "1          36  \n",
       "2          37  \n",
       "3          38  \n",
       "4          39  "
      ]
     },
     "metadata": {},
     "output_type": "display_data"
    }
   ],
   "source": [
    "# quick cleanup for readability and correct dtypes\n",
    "gdf['Community'] = gdf.Community.apply(lambda x: ' '.join(word.capitalize() for word in x.split(' ')))\n",
    "gdf['AreaNumber'] = gdf.AreaNumber.astype(int)\n",
    "\n",
    "display(gdf.head())"
   ]
  },
  {
   "cell_type": "code",
   "execution_count": 50,
   "metadata": {},
   "outputs": [
    {
     "data": {
      "text/plain": [
       "['DimCommunityArea.parquet',\n",
       " 'DimParkRide.parquet',\n",
       " 'DimRailLine.parquet',\n",
       " 'DimRailStation.parquet',\n",
       " 'FactStationEntries.parquet']"
      ]
     },
     "execution_count": 50,
     "metadata": {},
     "output_type": "execute_result"
    }
   ],
   "source": [
    "# drop no longer needed columns\n",
    "select_cols = [\n",
    "    'AreaNumber',\n",
    "    'Community',\n",
    "    'geometry'\n",
    "]\n",
    "gdf = gdf[select_cols]\n",
    "\n",
    "# save to file\n",
    "filepath = 'C:\\\\Users\\\\estel\\\\Documents\\\\python\\\\projects\\\\cta\\\\data\\\\silver\\\\'\n",
    "filename = 'DimCommunityArea.parquet'\n",
    "gdf.to_parquet(filepath+filename)\n",
    "\n",
    "# verify\n",
    "os.listdir(filepath)\n"
   ]
  },
  {
   "cell_type": "code",
   "execution_count": null,
   "metadata": {},
   "outputs": [],
   "source": []
  }
 ],
 "metadata": {
  "kernelspec": {
   "display_name": ".venv",
   "language": "python",
   "name": "python3"
  },
  "language_info": {
   "codemirror_mode": {
    "name": "ipython",
    "version": 3
   },
   "file_extension": ".py",
   "mimetype": "text/x-python",
   "name": "python",
   "nbconvert_exporter": "python",
   "pygments_lexer": "ipython3",
   "version": "3.13.1"
  }
 },
 "nbformat": 4,
 "nbformat_minor": 2
}
