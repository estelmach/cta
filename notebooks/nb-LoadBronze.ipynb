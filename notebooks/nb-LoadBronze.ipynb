{
 "cells": [
  {
   "cell_type": "code",
   "execution_count": 59,
   "metadata": {},
   "outputs": [],
   "source": [
    "%run functions.py"
   ]
  },
  {
   "cell_type": "code",
   "execution_count": 60,
   "metadata": {},
   "outputs": [],
   "source": [
    "import pandas as pd\n",
    "import glob\n",
    "import os\n",
    "\n",
    "from zipfile import ZipFile \n",
    "from IPython.display import clear_output"
   ]
  },
  {
   "cell_type": "code",
   "execution_count": 61,
   "metadata": {},
   "outputs": [],
   "source": [
    "# set paths and directories\n",
    "source_path = '..\\\\data\\\\.source\\\\'\n",
    "bronze_path = '..\\\\data\\\\bronze\\\\'"
   ]
  },
  {
   "cell_type": "code",
   "execution_count": 62,
   "metadata": {},
   "outputs": [
    {
     "ename": "FileExistsError",
     "evalue": "[WinError 183] Cannot create a file when that file already exists: '..\\\\data\\\\bronze\\\\doc.kml' -> '..\\\\data\\\\bronze\\\\CTA_ParkRide.kml'",
     "output_type": "error",
     "traceback": [
      "\u001b[1;31m---------------------------------------------------------------------------\u001b[0m",
      "\u001b[1;31mFileExistsError\u001b[0m                           Traceback (most recent call last)",
      "Cell \u001b[1;32mIn[62], line 14\u001b[0m\n\u001b[0;32m     12\u001b[0m         \u001b[38;5;66;03m# rename\u001b[39;00m\n\u001b[0;32m     13\u001b[0m         new_filename \u001b[38;5;241m=\u001b[39m zObject\u001b[38;5;241m.\u001b[39mfilename\u001b[38;5;241m.\u001b[39msplit(\u001b[38;5;124m'\u001b[39m\u001b[38;5;130;01m\\\\\u001b[39;00m\u001b[38;5;124m'\u001b[39m)[\u001b[38;5;241m-\u001b[39m\u001b[38;5;241m1\u001b[39m]\u001b[38;5;241m.\u001b[39mreplace(\u001b[38;5;124m'\u001b[39m\u001b[38;5;124mkmz\u001b[39m\u001b[38;5;124m'\u001b[39m, \u001b[38;5;124m'\u001b[39m\u001b[38;5;124mkml\u001b[39m\u001b[38;5;124m'\u001b[39m)\n\u001b[1;32m---> 14\u001b[0m         \u001b[43mos\u001b[49m\u001b[38;5;241;43m.\u001b[39;49m\u001b[43mrename\u001b[49m\u001b[43m(\u001b[49m\u001b[43mbronze_path\u001b[49m\u001b[38;5;241;43m+\u001b[39;49m\u001b[38;5;124;43m'\u001b[39;49m\u001b[38;5;124;43mdoc.kml\u001b[39;49m\u001b[38;5;124;43m'\u001b[39;49m\u001b[43m,\u001b[49m\u001b[43m \u001b[49m\u001b[43mbronze_path\u001b[49m\u001b[38;5;241;43m+\u001b[39;49m\u001b[43mnew_filename\u001b[49m\u001b[43m)\u001b[49m\n\u001b[0;32m     16\u001b[0m \u001b[38;5;66;03m# verify placement\u001b[39;00m\n\u001b[0;32m     17\u001b[0m \u001b[38;5;28mprint\u001b[39m(\u001b[38;5;124m'\u001b[39m\u001b[38;5;124mFiles in\u001b[39m\u001b[38;5;124m'\u001b[39m, bronze_path)\n",
      "\u001b[1;31mFileExistsError\u001b[0m: [WinError 183] Cannot create a file when that file already exists: '..\\\\data\\\\bronze\\\\doc.kml' -> '..\\\\data\\\\bronze\\\\CTA_ParkRide.kml'"
     ]
    }
   ],
   "source": [
    "# extract KMZ objects\n",
    "extension = '.kmz'\n",
    "\n",
    "files = glob.glob(os.path.join(source_path, f'*{extension}'))\n",
    "\n",
    "for file in files:\n",
    "    with ZipFile(file) as zObject:\n",
    "        # extract to bronze\n",
    "        filelist = zObject.filelist\n",
    "        zObject.extract('doc.kml', path=bronze_path)\n",
    "\n",
    "        # rename\n",
    "        new_filename = zObject.filename.split('\\\\')[-1].replace('kmz', 'kml')\n",
    "        os.rename(bronze_path+'doc.kml', bronze_path+new_filename)\n",
    "\n",
    "# verify placement\n",
    "print('Files in', bronze_path)\n",
    "print(os.listdir(bronze_path))"
   ]
  },
  {
   "cell_type": "code",
   "execution_count": 57,
   "metadata": {},
   "outputs": [
    {
     "name": "stdout",
     "output_type": "stream",
     "text": [
      "Files in ..\\data\\bronze\\\n",
      "['CTA_ParkRide.kml', 'CTA_RailLines.kml', 'CTA_RailStations.kml', 'L_Station_Entries_Daily_Totals_20250201..parquet', 'L_Station_Entries_Daily_Totals_20250201.parquet']\n"
     ]
    }
   ],
   "source": [
    "# load any csv files and save as parquet\n",
    "extension = '.csv'\n",
    "\n",
    "files = glob.glob(os.path.join(source_path, f'*{extension}'))\n",
    "\n",
    "for file in files:\n",
    "    print(f'Reading file {file}')\n",
    "    df = pd.read_csv(file)\n",
    "\n",
    "    print('Dtypes: ', df.dtypes)\n",
    "    print('Saving...')\n",
    "    df.to_parquet(bronze_path+file.split('\\\\')[-1].replace('csv', 'parquet'))\n",
    "    clear_output()\n",
    "\n",
    "# verify placement\n",
    "print('Files in', bronze_path)\n",
    "print(os.listdir(bronze_path))"
   ]
  }
 ],
 "metadata": {
  "kernelspec": {
   "display_name": ".venv",
   "language": "python",
   "name": "python3"
  },
  "language_info": {
   "codemirror_mode": {
    "name": "ipython",
    "version": 3
   },
   "file_extension": ".py",
   "mimetype": "text/x-python",
   "name": "python",
   "nbconvert_exporter": "python",
   "pygments_lexer": "ipython3",
   "version": "3.13.1"
  }
 },
 "nbformat": 4,
 "nbformat_minor": 2
}
