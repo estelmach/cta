{
 "cells": [
  {
   "cell_type": "code",
   "execution_count": 27,
   "metadata": {},
   "outputs": [],
   "source": [
    "import pandas as pd\n",
    "import geopandas as gpd\n",
    "import altair as alt"
   ]
  },
  {
   "cell_type": "code",
   "execution_count": 31,
   "metadata": {},
   "outputs": [
    {
     "ename": "ValueError",
     "evalue": "Missing geo metadata in Parquet/Feather file.\n            Use pandas.read_parquet/read_feather() instead.",
     "output_type": "error",
     "traceback": [
      "\u001b[1;31m---------------------------------------------------------------------------\u001b[0m",
      "\u001b[1;31mValueError\u001b[0m                                Traceback (most recent call last)",
      "Cell \u001b[1;32mIn[31], line 8\u001b[0m\n\u001b[0;32m      6\u001b[0m railLine_df \u001b[38;5;241m=\u001b[39m gpd\u001b[38;5;241m.\u001b[39mread_parquet(filepath \u001b[38;5;241m+\u001b[39m \u001b[38;5;124m'\u001b[39m\u001b[38;5;124mDimRailLine.parquet\u001b[39m\u001b[38;5;124m'\u001b[39m)\n\u001b[0;32m      7\u001b[0m railStation_df \u001b[38;5;241m=\u001b[39m gpd\u001b[38;5;241m.\u001b[39mread_parquet(filepath \u001b[38;5;241m+\u001b[39m \u001b[38;5;124m'\u001b[39m\u001b[38;5;124mDimRailStation.parquet\u001b[39m\u001b[38;5;124m'\u001b[39m)\n\u001b[1;32m----> 8\u001b[0m commArea_df \u001b[38;5;241m=\u001b[39m \u001b[43mgpd\u001b[49m\u001b[38;5;241;43m.\u001b[39;49m\u001b[43mread_parquet\u001b[49m\u001b[43m(\u001b[49m\u001b[43mfilepath\u001b[49m\u001b[38;5;241;43m+\u001b[39;49m\u001b[43m \u001b[49m\u001b[38;5;124;43m'\u001b[39;49m\u001b[38;5;124;43mDimCommunityArea.parquet\u001b[39;49m\u001b[38;5;124;43m'\u001b[39;49m\u001b[43m)\u001b[49m\n\u001b[0;32m      9\u001b[0m \u001b[38;5;66;03m# load other data\u001b[39;00m\n\u001b[0;32m     10\u001b[0m stationEntries_df \u001b[38;5;241m=\u001b[39m pd\u001b[38;5;241m.\u001b[39mread_parquet(filepath \u001b[38;5;241m+\u001b[39m \u001b[38;5;124m'\u001b[39m\u001b[38;5;124mFactSTationEntries.parquet\u001b[39m\u001b[38;5;124m'\u001b[39m)\n",
      "File \u001b[1;32mc:\\Users\\estel\\Documents\\python\\projects\\cta\\.venv\\Lib\\site-packages\\geopandas\\io\\arrow.py:753\u001b[0m, in \u001b[0;36m_read_parquet\u001b[1;34m(path, columns, storage_options, bbox, **kwargs)\u001b[0m\n\u001b[0;32m    750\u001b[0m path \u001b[38;5;241m=\u001b[39m _expand_user(path)\n\u001b[0;32m    751\u001b[0m schema, metadata \u001b[38;5;241m=\u001b[39m _read_parquet_schema_and_metadata(path, filesystem)\n\u001b[1;32m--> 753\u001b[0m geo_metadata \u001b[38;5;241m=\u001b[39m \u001b[43m_validate_and_decode_metadata\u001b[49m\u001b[43m(\u001b[49m\u001b[43mmetadata\u001b[49m\u001b[43m)\u001b[49m\n\u001b[0;32m    755\u001b[0m bbox_filter \u001b[38;5;241m=\u001b[39m (\n\u001b[0;32m    756\u001b[0m     _get_parquet_bbox_filter(geo_metadata, bbox) \u001b[38;5;28;01mif\u001b[39;00m bbox \u001b[38;5;129;01mis\u001b[39;00m \u001b[38;5;129;01mnot\u001b[39;00m \u001b[38;5;28;01mNone\u001b[39;00m \u001b[38;5;28;01melse\u001b[39;00m \u001b[38;5;28;01mNone\u001b[39;00m\n\u001b[0;32m    757\u001b[0m )\n\u001b[0;32m    759\u001b[0m if_bbox_column_exists \u001b[38;5;241m=\u001b[39m _check_if_covering_in_geo_metadata(geo_metadata)\n",
      "File \u001b[1;32mc:\\Users\\estel\\Documents\\python\\projects\\cta\\.venv\\Lib\\site-packages\\geopandas\\io\\arrow.py:621\u001b[0m, in \u001b[0;36m_validate_and_decode_metadata\u001b[1;34m(metadata)\u001b[0m\n\u001b[0;32m    619\u001b[0m \u001b[38;5;28;01mdef\u001b[39;00m\u001b[38;5;250m \u001b[39m\u001b[38;5;21m_validate_and_decode_metadata\u001b[39m(metadata):\n\u001b[0;32m    620\u001b[0m     \u001b[38;5;28;01mif\u001b[39;00m metadata \u001b[38;5;129;01mis\u001b[39;00m \u001b[38;5;28;01mNone\u001b[39;00m \u001b[38;5;129;01mor\u001b[39;00m \u001b[38;5;124mb\u001b[39m\u001b[38;5;124m\"\u001b[39m\u001b[38;5;124mgeo\u001b[39m\u001b[38;5;124m\"\u001b[39m \u001b[38;5;129;01mnot\u001b[39;00m \u001b[38;5;129;01min\u001b[39;00m metadata:\n\u001b[1;32m--> 621\u001b[0m         \u001b[38;5;28;01mraise\u001b[39;00m \u001b[38;5;167;01mValueError\u001b[39;00m(\n\u001b[0;32m    622\u001b[0m \u001b[38;5;250m            \u001b[39m\u001b[38;5;124;03m\"\"\"Missing geo metadata in Parquet/Feather file.\u001b[39;00m\n\u001b[0;32m    623\u001b[0m \u001b[38;5;124;03m            Use pandas.read_parquet/read_feather() instead.\"\"\"\u001b[39;00m\n\u001b[0;32m    624\u001b[0m         )\n\u001b[0;32m    626\u001b[0m     \u001b[38;5;66;03m# check for malformed metadata\u001b[39;00m\n\u001b[0;32m    627\u001b[0m     \u001b[38;5;28;01mtry\u001b[39;00m:\n",
      "\u001b[1;31mValueError\u001b[0m: Missing geo metadata in Parquet/Feather file.\n            Use pandas.read_parquet/read_feather() instead."
     ]
    }
   ],
   "source": [
    "# load data\n",
    "filepath = '..\\\\data\\\\silver\\\\'\n",
    "\n",
    "# load geodata\n",
    "parkRide_df = gpd.read_parquet(filepath + 'DimParkRide.parquet')\n",
    "railLine_df = gpd.read_parquet(filepath + 'DimRailLine.parquet')\n",
    "railStation_df = gpd.read_parquet(filepath + 'DimRailStation.parquet')\n",
    "commArea_df = gpd.read_parquet(filepath+ 'DimCommunityArea.parquet')\n",
    "# load other data\n",
    "stationEntries_df = pd.read_parquet(filepath + 'FactSTationEntries.parquet')\n",
    "\n",
    "display(parkRide_df.head(), railLine_df.head(), railStation_df.head(), stationEntries_df.head())"
   ]
  },
  {
   "cell_type": "code",
   "execution_count": null,
   "metadata": {},
   "outputs": [],
   "source": []
  }
 ],
 "metadata": {
  "kernelspec": {
   "display_name": ".venv",
   "language": "python",
   "name": "python3"
  },
  "language_info": {
   "codemirror_mode": {
    "name": "ipython",
    "version": 3
   },
   "file_extension": ".py",
   "mimetype": "text/x-python",
   "name": "python",
   "nbconvert_exporter": "python",
   "pygments_lexer": "ipython3",
   "version": "3.13.1"
  }
 },
 "nbformat": 4,
 "nbformat_minor": 2
}
