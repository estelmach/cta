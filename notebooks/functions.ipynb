{
 "cells": [
  {
   "cell_type": "code",
   "execution_count": null,
   "metadata": {},
   "outputs": [],
   "source": [
    "# functions for use in all notebooks\n",
    "# make into proper class at some point\n",
    "\n",
    "from bs4 import BeautifulSoup\n",
    "\n",
    "def get_metadata(parsed_html, metadata_to_get):\n",
    "   return parsed_html.find('td', string=metadata_to_get).find_next_sibling().text\n",
    "\n",
    "def extract_metadata(html):\n",
    "    # parse the html\n",
    "    soup = BeautifulSoup(html)\n",
    "\n",
    "    metadata_list = []\n",
    "    for item in metadata_items:\n",
    "        metadata_list.append(get_metadata(soup, item))\n",
    "    \n",
    "    return metadata_list"
   ]
  }
 ],
 "metadata": {
  "language_info": {
   "name": "python"
  }
 },
 "nbformat": 4,
 "nbformat_minor": 2
}
